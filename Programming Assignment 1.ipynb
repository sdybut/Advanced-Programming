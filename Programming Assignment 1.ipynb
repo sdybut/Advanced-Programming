{
 "cells": [
  {
   "cell_type": "markdown",
   "id": "adec0eea-26d5-411c-a43f-4c25c11c7b33",
   "metadata": {},
   "source": [
    "INTRODUCTION TO PYTHON PROGRAMMING"
   ]
  },
  {
   "cell_type": "markdown",
   "id": "16044a00-6a3f-4e49-ba0f-c34fe587b477",
   "metadata": {},
   "source": [
    "ALPHABET SOUP PROBLEM"
   ]
  },
  {
   "cell_type": "code",
   "execution_count": 138,
   "id": "ebb358a4-fa0b-4feb-9116-fe8318031c48",
   "metadata": {},
   "outputs": [],
   "source": [
    "def alphabet_soup (a): #create a function and label it as alphabet_soup\n",
    "\n",
    "    srtd = sorted (a) #sort the letters alphabetically\n",
    "    return str (srtd).replace(\"'\", \"\").replace(\"[\", \"\").replace(\"]\", \"\").replace(\", \", \"\") \n",
    "    \n",
    "    #return as a string then format the output\n",
    "    #when the output is not formatted the result will be \"['e','h','l','l','o']\"\n",
    "    #so to remove the \"'\" \",\" \"[\" \"]\" i used the syntax .replace"
   ]
  },
  {
   "cell_type": "code",
   "execution_count": 139,
   "id": "e9d1d941-58c9-4933-801c-ee18be2e6d6c",
   "metadata": {},
   "outputs": [
    {
     "data": {
      "text/plain": [
       "'ehllo'"
      ]
     },
     "execution_count": 139,
     "metadata": {},
     "output_type": "execute_result"
    }
   ],
   "source": [
    "alphabet_soup (\"hello\") #arrange from hello to ehllo"
   ]
  },
  {
   "cell_type": "code",
   "execution_count": 140,
   "id": "082b3e05-dc91-4d83-81a0-c7c49ece98ee",
   "metadata": {},
   "outputs": [
    {
     "data": {
      "text/plain": [
       "'acehkr'"
      ]
     },
     "execution_count": 140,
     "metadata": {},
     "output_type": "execute_result"
    }
   ],
   "source": [
    "alphabet_soup (\"hacker\") #arrange from hacker to acehkr"
   ]
  },
  {
   "cell_type": "code",
   "execution_count": 141,
   "id": "ec2a8674-f81b-4ca2-9778-69a585f73ede",
   "metadata": {},
   "outputs": [
    {
     "data": {
      "text/plain": [
       "'belott'"
      ]
     },
     "execution_count": 141,
     "metadata": {},
     "output_type": "execute_result"
    }
   ],
   "source": [
    "alphabet_soup (\"bottle\") #arrange from bottle to belott (additional word)"
   ]
  },
  {
   "cell_type": "markdown",
   "id": "2f507c45-b4da-4e52-91ab-8703baeab11e",
   "metadata": {},
   "source": [
    "EMOTICON PROBLEM"
   ]
  },
  {
   "cell_type": "code",
   "execution_count": 92,
   "id": "e05b4279-80c7-41d1-90ab-226208b12509",
   "metadata": {},
   "outputs": [],
   "source": [
    "def emotify(s): #create a function and label it as emotify\n",
    "\n",
    "    s = s.replace (\"smile\", \":)\") #replace \"smile\" -> \":)\" \n",
    "    s = s.replace (\"grin\", \":D\") #replace \"grin\" -> \":D\"\n",
    "    s = s.replace (\"sad\", \":((\") #replace \"sad\" -> \":((\"\n",
    "    s = s.replace (\"mad\", \">:(\") #replace \"mad\"-> \">:(\"\n",
    "    return s #return into modified output"
   ]
  },
  {
   "cell_type": "code",
   "execution_count": 93,
   "id": "4bc3de1b-4d22-41f3-88c3-ce936f9357c1",
   "metadata": {},
   "outputs": [
    {
     "data": {
      "text/plain": [
       "'Make me :)'"
      ]
     },
     "execution_count": 93,
     "metadata": {},
     "output_type": "execute_result"
    }
   ],
   "source": [
    "emotify (\"Make me smile\") #print Make me smile -> Make me :)"
   ]
  },
  {
   "cell_type": "code",
   "execution_count": 7,
   "id": "8156c7f4-0ea6-4021-8058-b204bd8e70e6",
   "metadata": {},
   "outputs": [
    {
     "data": {
      "text/plain": [
       "'Give me a :D'"
      ]
     },
     "execution_count": 7,
     "metadata": {},
     "output_type": "execute_result"
    }
   ],
   "source": [
    "emotify (\"Give me a grin\") #print Give me a grin -> Give me a :D"
   ]
  },
  {
   "cell_type": "code",
   "execution_count": 8,
   "id": "b1e46900-527f-42af-8e54-320ee289a8c1",
   "metadata": {},
   "outputs": [
    {
     "data": {
      "text/plain": [
       "\"Don't be :((\""
      ]
     },
     "execution_count": 8,
     "metadata": {},
     "output_type": "execute_result"
    }
   ],
   "source": [
    "emotify (\"Don't be sad\") #print Don't be sad -> Don't be :(("
   ]
  },
  {
   "cell_type": "code",
   "execution_count": 36,
   "id": "e5ef3fa5-2541-458f-b4e5-2696ea7fa7a7",
   "metadata": {},
   "outputs": [
    {
     "data": {
      "text/plain": [
       "'I am >:('"
      ]
     },
     "execution_count": 36,
     "metadata": {},
     "output_type": "execute_result"
    }
   ],
   "source": [
    "emotify (\"I am mad\") #print I am mad -> I am >:("
   ]
  },
  {
   "cell_type": "markdown",
   "id": "d3409734-0251-4f86-9c23-a9989a3f6578",
   "metadata": {},
   "source": [
    "UNPACKING LIST PROBLEM"
   ]
  },
  {
   "cell_type": "code",
   "execution_count": 135,
   "id": "a7196b02-ce28-4277-bb1f-09f9787ff9b5",
   "metadata": {},
   "outputs": [],
   "source": [
    "writeyourcodehere = [1, 2, 3, 4, 5, 6] #list values"
   ]
  },
  {
   "cell_type": "code",
   "execution_count": 136,
   "id": "e317dc57-9168-46e9-8016-f2bbb8e913c6",
   "metadata": {},
   "outputs": [
    {
     "name": "stdout",
     "output_type": "stream",
     "text": [
      "first: 1  middle: [2, 3, 4, 5]  last: 6\n"
     ]
    }
   ],
   "source": [
    "print (\"first:\", writeyourcodehere[0], \" middle:\", writeyourcodehere[1:-1], \" last:\", writeyourcodehere[-1]) \n",
    "\n",
    "#print the output as:\n",
    "#first: index 0 (first element)\n",
    "#middle: slice elements between the index 0 and -1 (elements between first and last element)\n",
    "#last: index -1 (last element)"
   ]
  },
  {
   "cell_type": "code",
   "execution_count": 137,
   "id": "8024d7cf",
   "metadata": {},
   "outputs": [],
   "source": [
    "writeyourcodehere1 = [10, 20, 30, 40, 50, 60] #list values (additional example)"
   ]
  },
  {
   "cell_type": "code",
   "execution_count": 123,
   "id": "36b34c2f-e92b-439f-b044-a338aabe8a38",
   "metadata": {},
   "outputs": [
    {
     "name": "stdout",
     "output_type": "stream",
     "text": [
      "first: 10  middle: [20, 30, 40, 50]  last: 60\n"
     ]
    }
   ],
   "source": [
    "print (\"first:\", writeyourcodehere1[0], \" middle:\", writeyourcodehere1[1:-1], \" last:\", writeyourcodehere1[-1]) \n",
    "\n",
    "#print the output as:\n",
    "#first: index 0 (first element)\n",
    "#middle: slice elements between the index 0 and -1 (elements between first and last element)\n",
    "#last: index -1 (last element)"
   ]
  }
 ],
 "metadata": {
  "kernelspec": {
   "display_name": "Python [conda env:base] *",
   "language": "python",
   "name": "conda-base-py"
  },
  "language_info": {
   "codemirror_mode": {
    "name": "ipython",
    "version": 3
   },
   "file_extension": ".py",
   "mimetype": "text/x-python",
   "name": "python",
   "nbconvert_exporter": "python",
   "pygments_lexer": "ipython3",
   "version": "3.13.5"
  }
 },
 "nbformat": 4,
 "nbformat_minor": 5
}
